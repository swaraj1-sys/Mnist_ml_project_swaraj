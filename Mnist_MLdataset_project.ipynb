{
  "nbformat": 4,
  "nbformat_minor": 0,
  "metadata": {
    "colab": {
      "provenance": [],
      "authorship_tag": "ABX9TyMJvCxT1x12Qa8FAjS8y5Xb",
      "include_colab_link": true
    },
    "kernelspec": {
      "name": "python3",
      "display_name": "Python 3"
    },
    "language_info": {
      "name": "python"
    }
  },
  "cells": [
    {
      "cell_type": "markdown",
      "metadata": {
        "id": "view-in-github",
        "colab_type": "text"
      },
      "source": [
        "<a href=\"https://colab.research.google.com/github/swaraj1-sys/Mnist_ml_project_swaraj/blob/Mnist/Mnist_MLdataset_project.ipynb\" target=\"_parent\"><img src=\"https://colab.research.google.com/assets/colab-badge.svg\" alt=\"Open In Colab\"/></a>"
      ]
    },
    {
      "cell_type": "markdown",
      "source": [
        "Mnist dataset importing important libraries"
      ],
      "metadata": {
        "id": "leIjZO9hn9G-"
      }
    },
    {
      "cell_type": "code",
      "execution_count": 36,
      "metadata": {
        "id": "VeVdL2aJJDF3",
        "colab": {
          "base_uri": "https://localhost:8080/"
        },
        "outputId": "af8d81de-ac49-4e14-8e96-d6fa3ed74572"
      },
      "outputs": [
        {
          "output_type": "stream",
          "name": "stderr",
          "text": [
            "/usr/local/lib/python3.10/dist-packages/sklearn/datasets/_openml.py:1022: FutureWarning: The default value of `parser` will change from `'liac-arff'` to `'auto'` in 1.4. You can set `parser='auto'` to silence this warning. Therefore, an `ImportError` will be raised from 1.4 if the dataset is dense and pandas is not installed. Note that the pandas parser may return different data types. See the Notes Section in fetch_openml's API doc for details.\n",
            "  warn(\n"
          ]
        }
      ],
      "source": [
        "import numpy as np\n",
        "import matplotlib.pyplot as plt\n",
        "from tqdm import tqdm\n",
        "from sklearn.datasets import fetch_openml\n",
        "%matplotlib inline\n",
        "%config InlineBackend.figure_format = 'retina'\n",
        "mnist = fetch_openml('mnist_784')\n",
        "dict_keys = (['data', 'target','frame','categories','feature_names','target_names','DESCR','details','url'])\n",
        "data = mnist.data\n",
        "labels = mnist.target"
      ]
    },
    {
      "cell_type": "markdown",
      "source": [
        "we will pick a random data point to get acquainted with an image and its shape"
      ],
      "metadata": {
        "id": "oxt7P9UFodAk"
      }
    },
    {
      "cell_type": "code",
      "source": [
        "n = np.random.choice(np.arange(data.shape[0]+1))\n",
        "print(n)"
      ],
      "metadata": {
        "colab": {
          "base_uri": "https://localhost:8080/"
        },
        "id": "ODBaoUV6HT0d",
        "outputId": "5a85a2b9-fbb1-4fa9-c911-bafa68902900"
      },
      "execution_count": 37,
      "outputs": [
        {
          "output_type": "stream",
          "name": "stdout",
          "text": [
            "57963\n"
          ]
        }
      ]
    },
    {
      "cell_type": "code",
      "source": [
        "test_img = data.iloc[n].values\n",
        "test_label = mnist.target.iloc[n]\n",
        "print(test_img.shape)"
      ],
      "metadata": {
        "colab": {
          "base_uri": "https://localhost:8080/"
        },
        "id": "LNLG3h3HKso4",
        "outputId": "5ffc363f-a106-470c-8a6b-cf52fbe85a7c"
      },
      "execution_count": 38,
      "outputs": [
        {
          "output_type": "stream",
          "name": "stdout",
          "text": [
            "(784,)\n"
          ]
        }
      ]
    },
    {
      "cell_type": "code",
      "source": [
        "side_length = int(np.sqrt(test_img.shape))\n",
        "reshaped_test_img = test_img.reshape(side_length,side_length)\n",
        "print(\"img label:\" +str(test_label))"
      ],
      "metadata": {
        "colab": {
          "base_uri": "https://localhost:8080/"
        },
        "id": "bNTmADpbNXHV",
        "outputId": "3b47d976-fe33-4ddf-83a8-14b4c5fb3ffe"
      },
      "execution_count": 39,
      "outputs": [
        {
          "output_type": "stream",
          "name": "stdout",
          "text": [
            "img label:0\n"
          ]
        },
        {
          "output_type": "stream",
          "name": "stderr",
          "text": [
            "<ipython-input-39-186e52879b74>:1: DeprecationWarning: Conversion of an array with ndim > 0 to a scalar is deprecated, and will error in future. Ensure you extract a single element from your array before performing this operation. (Deprecated NumPy 1.25.)\n",
            "  side_length = int(np.sqrt(test_img.shape))\n"
          ]
        }
      ]
    },
    {
      "cell_type": "code",
      "source": [
        "plt.imshow(reshaped_test_img,cmap='gray')\n",
        "plt.axis('off')\n",
        "plt.show()"
      ],
      "metadata": {
        "colab": {
          "base_uri": "https://localhost:8080/",
          "height": 406
        },
        "id": "2DEwTy_DOQGd",
        "outputId": "ab603619-b913-4a62-a290-3b93faef13bf"
      },
      "execution_count": 40,
      "outputs": [
        {
          "output_type": "display_data",
          "data": {
            "text/plain": [
              "<Figure size 640x480 with 1 Axes>"
            ],
            "image/png": "[encoded data removed]"
          },
          "metadata": {
            "image/png": {
              "width": 389,
              "height": 389
            }
          }
        }
      ]
    },
    {
      "cell_type": "code",
      "source": [
        "w1 = np.ones((784, 4)) * 0.01\n",
        "z1 = np.dot(data, w1)\n",
        "print(z1.shape)\n",
        "w2 = np.ones((4, 10))\n",
        "z2 = np.dot(z1, w2)\n",
        "print(z2.shape)"
      ],
      "metadata": {
        "id": "YDZg1_BmOePR",
        "colab": {
          "base_uri": "https://localhost:8080/"
        },
        "outputId": "27e65a34-5f57-4a5c-d693-51529289c465"
      },
      "execution_count": 41,
      "outputs": [
        {
          "output_type": "stream",
          "name": "stdout",
          "text": [
            "(70000, 4)\n",
            "(70000, 10)\n"
          ]
        }
      ]
    },
    {
      "cell_type": "markdown",
      "source": [
        "Let's set the stage for nn now , let us make some nn stuff now"
      ],
      "metadata": {
        "id": "PIDYvUZ3tWa_"
      }
    },
    {
      "cell_type": "markdown",
      "source": [
        "# I have used RELU (Rectified linear unit here ) It basically works as non-linear activation function in the dataset"
      ],
      "metadata": {
        "id": "IUwf735HvGld"
      }
    },
    {
      "cell_type": "code",
      "source": [
        "\n",
        "def sigmoid(z: np.ndarray) -> np.ndarray:\n",
        "    return 1.0 / (1.0 + np.exp(-z))\n",
        "def relu(z: np.ndarray) -> np.ndarray:\n",
        "    return np.maximum(0, z)\n",
        "def tanh(z: np.ndarray) -> np.ndarray:\n",
        "    return np.tanh(z)\n",
        "def leaky_relu(z: np.ndarray) -> np.ndarray:\n",
        "    return np.where(z > 0, z, z * 0.01)"
      ],
      "metadata": {
        "id": "XrzuuQATsu4m"
      },
      "execution_count": 42,
      "outputs": []
    },
    {
      "cell_type": "markdown",
      "source": [
        "Output layer is set using (SOFTMAX)it is a multiclass classification problem"
      ],
      "metadata": {
        "id": "5amwfQB9vgZL"
      }
    },
    {
      "cell_type": "code",
      "source": [
        "def softmax(z:np.ndarray)->np.ndarray:\n",
        "  e = np.exp(z-np.max(z))\n",
        "  return e / np.sum(e,axis=0)"
      ],
      "metadata": {
        "id": "BFoJpmTouh34"
      },
      "execution_count": 43,
      "outputs": []
    },
    {
      "cell_type": "markdown",
      "source": [
        "Let us normalize our dataset now to scale the inputs to the [0,1] range"
      ],
      "metadata": {
        "id": "m8C5bwBjdOD-"
      }
    },
    {
      "cell_type": "code",
      "source": [
        "def normalize(x: np.ndarray)->np.ndarray:\n",
        "  return (x - np.min(x)) / (np.max(x) - np.min(x))"
      ],
      "metadata": {
        "id": "Q5BOeMlZvDLF"
      },
      "execution_count": 44,
      "outputs": []
    },
    {
      "cell_type": "markdown",
      "source": [
        "now to encode this data with one_hot_encode technique is actually a way in which One-hot encoding is a technique in machine learning that turns categorical data, like colors (red, green, blue), into numerical data for machines to understand."
      ],
      "metadata": {
        "id": "4eG0qLyVeOMm"
      }
    },
    {
      "cell_type": "code",
      "source": [
        "def one_hot_encode(x: np.ndarray, num_labels: int) -> np.ndarray:\n",
        "  return np.eye(num_labels)[x]"
      ],
      "metadata": {
        "id": "RCngAT5Kd5tM"
      },
      "execution_count": 45,
      "outputs": []
    },
    {
      "cell_type": "markdown",
      "source": [
        "derivates"
      ],
      "metadata": {
        "id": "1p5Rv0t5iGMq"
      }
    },
    {
      "cell_type": "code",
      "source": [
        "def derivative(function_name: str, z: np.ndarray) -> np.ndarray:\n",
        "    if function_name == \"sigmoid\":\n",
        "        return sigmoid(z) * (1 - sigmoid(z))\n",
        "    if function_name == \"tanh\":\n",
        "        return 1 - np.square(tanh(z))\n",
        "    if function_name == \"relu\":\n",
        "        y = (z > 0) * 1\n",
        "        return y\n",
        "    if function_name == \"leaky_relu\":\n",
        "        return  np.where(z > 0, 1, 0.01)\n",
        "    return \"No such activation\""
      ],
      "metadata": {
        "id": "LBcZIma7gJty"
      },
      "execution_count": 46,
      "outputs": []
    },
    {
      "cell_type": "code",
      "source": [
        "\n",
        "def __init__(self, X: np.ndarray, y: np.ndarray, X_test: np.ndarray, y_test: np.ndarray, activation: str, num_labels: int, architecture: list[int]):\n",
        "        self.X = normalize(X) # normalize training data in range 0,1\n",
        "        assert np.all((self.X >= 0) | (self.X <= 1)) # test that normalize succeded\n",
        "        self.X, self.X_test = X.copy(), X_test.copy()\n",
        "        self.y, self.y_test = y.copy(), y_test.copy()\n",
        "        self.layers = {} # define dict to store results of activation\n",
        "        self.architecture = architecture # size of hidden layers as array\n",
        "        self.activation = activation # activation function\n",
        "        assert self.activation in [\"relu\", \"tanh\", \"sigmoid\", \"leaky_relu\"]\n",
        "        self.parameters = {}\n",
        "        self.num_labels = num_labels\n",
        "        self.m = X.shape[1]\n",
        "        self.architecture.append(self.num_labels)\n",
        "        self.num_input_features = X.shape[0]\n",
        "        self.architecture.insert(0, self.num_input_features)\n",
        "        self.L = len(architecture)\n",
        "        assert self.X.shape == (self.num_input_features, self.m)\n",
        "        assert self.y.shape == (self.num_labels, self.m)"
      ],
      "metadata": {
        "id": "T0gV7I3OiAim"
      },
      "execution_count": 47,
      "outputs": []
    },
    {
      "cell_type": "code",
      "source": [
        "def initialize_parameters(self):\n",
        "  for i in range (1, self.L):\n",
        "    print(f\"initialized parameters for layers: {i}.\")\n",
        "    self.parameters[\"w+str(i)\"] = np.random.randn(self.architecture[i], self.architecture[i-1])*0.01\n",
        "    self.parameters[\"b+str(i)\"] = np.zeros((self.architecture[i],1))\n"
      ],
      "metadata": {
        "id": "MLarKEDgktPu"
      },
      "execution_count": 48,
      "outputs": []
    },
    {
      "cell_type": "code",
      "source": [
        "def forward(self):\n",
        "        params=self.parameters\n",
        "        self.layers[\"a0\"] = self.X\n",
        "        for l in range(1, self.L-1):\n",
        "            self.layers[\"z\" + str(l)] = np.dot(params[\"w\" + str(l)],\n",
        "                                               self.layers[\"a\"+str(l-1)]) + params[\"b\"+str(l)]\n",
        "            self.layers[\"a\" + str(l)] = eval(self.activation)(self.layers[\"z\"+str(l)])\n",
        "            assert self.layers[\"a\"+str(l)].shape == (self.architecture[l], self.m)\n",
        "        self.layers[\"z\" + str(self.L-1)] = np.dot(params[\"w\" + str(self.L-1)],\n",
        "                                                  self.layers[\"a\"+str(self.L-2)]) + params[\"b\"+str(self.L-1)]\n",
        "        self.layers[\"a\"+str(self.L-1)] = softmax(self.layers[\"z\"+str(self.L-1)])\n",
        "        self.output = self.layers[\"a\"+str(self.L-1)]\n",
        "        assert self.output.shape == (self.num_labels, self.m)\n",
        "        assert all([s for s in np.sum(self.output, axis=1)])\n",
        "\n",
        "        cost = - np.sum(self.y * np.log(self.output + 0.000000001))\n",
        "\n",
        "        return cost, self.layers"
      ],
      "metadata": {
        "id": "DYmvB8AeljQA"
      },
      "execution_count": 49,
      "outputs": []
    },
    {
      "cell_type": "code",
      "source": [
        "def backpropagate(self):\n",
        "        derivatives = {}\n",
        "        dZ = self.output - self.y\n",
        "        assert dZ.shape == (self.num_labels, self.m)\n",
        "        dW = np.dot(dZ, self.layers[\"a\" + str(self.L-2)].T) / self.m\n",
        "        db = np.sum(dZ, axis=1, keepdims=True) / self.m\n",
        "        dAPrev = np.dot(self.parameters[\"w\" + str(self.L-1)].T, dZ)\n",
        "        derivatives[\"dW\" + str(self.L-1)] = dW\n",
        "        derivatives[\"db\" + str(self.L-1)] = db\n",
        "\n",
        "        for l in range(self.L-2, 0, -1):\n",
        "            dZ = dAPrev * derivative(self.activation, self.layers[\"z\" + str(l)])\n",
        "            dW = 1. / self.m * np.dot(dZ, self.layers[\"a\" + str(l-1)].T)\n",
        "            db = 1. / self.m * np.sum(dZ, axis=1, keepdims=True)\n",
        "            if l > 1:\n",
        "                dAPrev = np.dot(self.parameters[\"w\" + str(l)].T, (dZ))\n",
        "            derivatives[\"dW\" + str(l)] = dW\n",
        "            derivatives[\"db\" + str(l)] = db\n",
        "        self.derivatives = derivatives\n",
        "\n",
        "        return self.derivatives"
      ],
      "metadata": {
        "id": "sdI3xuw8rQt4"
      },
      "execution_count": 50,
      "outputs": []
    },
    {
      "cell_type": "code",
      "source": [
        "def fit(self, lr=0.01, epochs=1000):\n",
        "        self.costs = []\n",
        "        self.initialize_parameters()\n",
        "        self.accuracies = {\"train\": [], \"test\": []}\n",
        "        for epoch in tqdm(range(epochs), colour=\"BLUE\"):\n",
        "            cost, cache = self.forward()\n",
        "            self.costs.append(cost)\n",
        "            derivatives = self.backpropagate()\n",
        "            for layer in range(1, self.L):\n",
        "                self.parameters[\"w\"+str(layer)] = self.parameters[\"w\"+str(layer)] - lr * derivatives[\"dW\" + str(layer)]\n",
        "                self.parameters[\"b\"+str(layer)] = self.parameters[\"b\"+str(layer)] - lr * derivatives[\"db\" + str(layer)]\n",
        "            train_accuracy = self.accuracy(self.X, self.y)\n",
        "            test_accuracy = self.accuracy(self.X_test, self.y_test)\n",
        "            if epoch % 10 == 0:\n",
        "                print(f\"Epoch: {epoch:3d} | Cost: {cost:.3f} | Accuracy: {train_accuracy:.3f}\")\n",
        "            self.accuracies[\"train\"].append(train_accuracy)\n",
        "            self.accuracies[\"test\"].append(test_accuracy)\n",
        "        print(\"Training terminated\")"
      ],
      "metadata": {
        "id": "QIc2eCvVrRiw"
      },
      "execution_count": 51,
      "outputs": []
    },
    {
      "cell_type": "code",
      "source": [
        "def predict(self, x):\n",
        "        params = self.parameters\n",
        "        n_layers = self.L - 1\n",
        "        values = [x]\n",
        "        for l in range(1, n_layers):\n",
        "            z = np.dot(params[\"w\" + str(l)], values[l-1]) + params[\"b\" + str(l)]\n",
        "            a = eval(self.activation)(z)\n",
        "            values.append(a)\n",
        "        z = np.dot(params[\"w\"+str(n_layers)], values[n_layers-1]) + params[\"b\"+str(n_layers)]\n",
        "        a = softmax(z)\n",
        "        if x.shape[1]>1:\n",
        "            ans = np.argmax(a, axis=0)\n",
        "        else:\n",
        "            ans = np.argmax(a)\n",
        "        return ans\n",
        "\n",
        "\n",
        "def accuracy(self, X, y):\n",
        "    P = self.predict(X)\n",
        "    return sum(np.equal(P, np.argmax(y, axis=0))) / y.shape[1]*100"
      ],
      "metadata": {
        "id": "fQdNBAdwtJFA"
      },
      "execution_count": 52,
      "outputs": []
    },
    {
      "cell_type": "code",
      "source": [
        "train_test_split_no = 60000\n",
        "X_train = data.values[:train_test_split_no].T\n",
        "y_train = labels[:train_test_split_no].values.astype(int)\n",
        "y_train = one_hot_encode(y_train, 10).T\n",
        "X_test = data.values[train_test_split_no:].T\n",
        "y_test = labels[train_test_split_no:].values.astype(int)\n",
        "y_test = one_hot_encode(y_test, 10).T\n",
        "X_train.shape, X_test.shape"
      ],
      "metadata": {
        "colab": {
          "base_uri": "https://localhost:8080/"
        },
        "id": "FFdN6Mg_rjHP",
        "outputId": "c03a3980-ca17-4a76-a097-22d55745cb04"
      },
      "execution_count": 53,
      "outputs": [
        {
          "output_type": "execute_result",
          "data": {
            "text/plain": [
              "((784, 60000), (784, 10000))"
            ]
          },
          "metadata": {},
          "execution_count": 53
        }
      ]
    },
    {
      "cell_type": "code",
      "source": [
        "!pip install NN"
      ],
      "metadata": {
        "colab": {
          "base_uri": "https://localhost:8080/"
        },
        "id": "xF4_jV4lrseV",
        "outputId": "77a1006c-c9dc-4ae7-ac64-350d4dd2dbd3"
      },
      "execution_count": 61,
      "outputs": [
        {
          "output_type": "stream",
          "name": "stdout",
          "text": [
            "Collecting NN\n",
            "  Downloading nn-0.1.1.tar.gz (5.0 kB)\n",
            "  Preparing metadata (setup.py) ... \u001b[?25l\u001b[?25hdone\n",
            "Building wheels for collected packages: NN\n",
            "  Building wheel for NN (setup.py) ... \u001b[?25l\u001b[?25hdone\n",
            "  Created wheel for NN: filename=nn-0.1.1-py3-none-any.whl size=5707 sha256=76a1b9c0adb90c68b4e6c054eea133419c4c78d7e41bcb5f06ed6bdf370021cf\n",
            "  Stored in directory: /root/.cache/pip/wheels/60/62/98/7126b3684829be2701b0f07444922e84b3304646574a159431\n",
            "Successfully built NN\n",
            "Installing collected packages: NN\n",
            "Successfully installed NN-0.1.1\n"
          ]
        }
      ]
    },
    {
      "cell_type": "code",
      "source": [
        "import numpy as np\n",
        "import tensorflow as tf\n",
        "from tensorflow.keras.models import Sequential\n",
        "from tensorflow.keras.layers import Dense\n",
        "import matplotlib.pyplot as plt\n",
        "\n",
        "class NN:\n",
        "    def __init__(self, X_train, y_train, X_test, y_test, activation, epochs, layers):\n",
        "        self.X_train = X_train\n",
        "        self.y_train = y_train\n",
        "        self.X_test = X_test = X_test\n",
        "        self.y_test = y_test\n",
        "        self.activation = activation\n",
        "        self.epochs = epochs\n",
        "        self.layers = layers\n",
        "        self.history = None\n",
        "\n",
        "        # Initialize the model\n",
        "        self.model = Sequential()\n",
        "        # Input layer\n",
        "        self.model.add(Dense(layers[0], input_shape=(X_train.shape[1],), activation=activation))\n",
        "        # Hidden layers\n",
        "        for layer_size in layers[1:]:\n",
        "            self.model.add(Dense(layer_size, activation=activation))\n",
        "        # Output layer\n",
        "        self.model.add(Dense(1, activation='sigmoid'))  # Assuming binary classification\n",
        "\n",
        "    def fit(self, X, y, lr, epochs):\n",
        "        self.model.compile(optimizer=tf.keras.optimizers.Adam(learning_rate=lr),\n",
        "                           loss='binary_crossentropy',\n",
        "                           metrics=['accuracy'])\n",
        "        self.history = self.model.fit(X, y, epochs=epochs, validation_split=0.2, verbose=0)\n",
        "\n",
        "    def plot_cost(self, lr):\n",
        "        plt.plot(self.history.history['loss'], label='train_loss')\n",
        "        plt.plot(self.history.history['val_loss'], label='val_loss')\n",
        "        plt.title('Model Loss')\n",
        "        plt.xlabel('Epochs')\n",
        "        plt.ylabel('Loss')\n",
        "        plt.legend()\n",
        "        plt.show()\n",
        "\n",
        "# Generate dummy data\n",
        "X_train = np.random.random((1000, 20))\n",
        "y_train = np.random.randint(2, size=(1000, 1))\n",
        "X_test = np.random.random((100, 20))\n",
        "y_test = np.random.randint(2, size=(100, 1))\n",
        "\n",
        "PARAMS = [X_train, y_train, X_test, y_test, \"relu\", 10, [128, 32]]\n",
        "nn_relu = NN(*PARAMS)\n",
        "epochs_relu = 200\n",
        "lr_relu = 0.003\n",
        "\n",
        "nn_relu.fit(X_train, y_train, lr=lr_relu, epochs=epochs_relu)\n",
        "nn_relu.plot_cost(lr_relu)\n"
      ],
      "metadata": {
        "colab": {
          "base_uri": "https://localhost:8080/",
          "height": 526
        },
        "id": "V7wqZYagrxUe",
        "outputId": "eab8835c-9feb-4355-e38c-35754290f21c"
      },
      "execution_count": 63,
      "outputs": [
        {
          "output_type": "stream",
          "name": "stderr",
          "text": [
            "/usr/local/lib/python3.10/dist-packages/keras/src/layers/core/dense.py:87: UserWarning: Do not pass an `input_shape`/`input_dim` argument to a layer. When using Sequential models, prefer using an `Input(shape)` object as the first layer in the model instead.\n",
            "  super().__init__(activity_regularizer=activity_regularizer, **kwargs)\n"
          ]
        },
        {
          "output_type": "display_data",
          "data": {
            "text/plain": [
              "<Figure size 640x480 with 1 Axes>"
            ],
            "image/png": "[encoded data removed]"
          },
          "metadata": {
            "image/png": {
              "width": 567,
              "height": 454
            }
          }
        }
      ]
    }
  ]
}